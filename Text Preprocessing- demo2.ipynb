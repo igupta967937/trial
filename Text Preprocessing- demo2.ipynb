{
 "cells": [
  {
   "cell_type": "markdown",
   "metadata": {},
   "source": [
    "\n",
    "\n",
    "### The first step of any text processing task you should be cleaning the data in order to obtain better features. "
   ]
  },
  {
   "cell_type": "markdown",
   "metadata": {},
   "source": [
    "# Import Libraries"
   ]
  },
  {
   "cell_type": "code",
   "execution_count": 1,
   "metadata": {},
   "outputs": [],
   "source": [
    "import pandas as pd\n",
    "import csv\n",
    "import numpy as np\n",
    "import re\n",
    "import string"
   ]
  },
  {
   "cell_type": "code",
   "execution_count": 12,
   "metadata": {},
   "outputs": [],
   "source": [
    "# change the seeting of the cells\n",
    "pd.set_option('display.max_columns', None)\n",
    "pd.set_option('display.max_rows', None)\n",
    "pd.set_option('display.max_colwidth', -1)"
   ]
  },
  {
   "cell_type": "markdown",
   "metadata": {},
   "source": [
    "## Data Introduction"
   ]
  },
  {
   "cell_type": "markdown",
   "metadata": {},
   "source": [
    "    This dataset contains a list of democrats and republican Tweets as of May 2018. \n",
    "    The dataset contains 86,460 tweets in total.\n",
    "    \n",
    "    Source:https://www.kaggle.com/kapastor/democratvsrepublicantweets/"
   ]
  },
  {
   "cell_type": "markdown",
   "metadata": {},
   "source": [
    "# Read data file"
   ]
  },
  {
   "cell_type": "code",
   "execution_count": 3,
   "metadata": {},
   "outputs": [],
   "source": [
    "tweets = pd.read_csv('democratVsRepublicanTweets.csv')"
   ]
  },
  {
   "cell_type": "code",
   "execution_count": 4,
   "metadata": {},
   "outputs": [
    {
     "data": {
      "text/html": [
       "<div>\n",
       "<style scoped>\n",
       "    .dataframe tbody tr th:only-of-type {\n",
       "        vertical-align: middle;\n",
       "    }\n",
       "\n",
       "    .dataframe tbody tr th {\n",
       "        vertical-align: top;\n",
       "    }\n",
       "\n",
       "    .dataframe thead th {\n",
       "        text-align: right;\n",
       "    }\n",
       "</style>\n",
       "<table border=\"1\" class=\"dataframe\">\n",
       "  <thead>\n",
       "    <tr style=\"text-align: right;\">\n",
       "      <th></th>\n",
       "      <th>Party</th>\n",
       "      <th>Handle</th>\n",
       "      <th>Tweet</th>\n",
       "    </tr>\n",
       "  </thead>\n",
       "  <tbody>\n",
       "    <tr>\n",
       "      <th>0</th>\n",
       "      <td>Democrat</td>\n",
       "      <td>RepDarrenSoto</td>\n",
       "      <td>Today, Senate Dems vote to #SaveTheInternet. Proud to support similar #NetNeutrality legislation here in the House… https://t.co/n3tggDLU1L</td>\n",
       "    </tr>\n",
       "    <tr>\n",
       "      <th>1</th>\n",
       "      <td>Democrat</td>\n",
       "      <td>RepDarrenSoto</td>\n",
       "      <td>RT @WinterHavenSun: Winter Haven resident / Alta Vista teacher is one of several recognized by @RepDarrenSoto for National Teacher Apprecia…</td>\n",
       "    </tr>\n",
       "    <tr>\n",
       "      <th>2</th>\n",
       "      <td>Democrat</td>\n",
       "      <td>RepDarrenSoto</td>\n",
       "      <td>RT @NBCLatino: .@RepDarrenSoto noted that Hurricane Maria has left approximately $90 billion in damages. \\n\\nCongress has allocated about $18…</td>\n",
       "    </tr>\n",
       "    <tr>\n",
       "      <th>3</th>\n",
       "      <td>Democrat</td>\n",
       "      <td>RepDarrenSoto</td>\n",
       "      <td>RT @NALCABPolicy: Meeting with @RepDarrenSoto . Thanks for taking the time to meet with @LatinoLeader ED Marucci Guzman. #NALCABPolicy2018.…</td>\n",
       "    </tr>\n",
       "    <tr>\n",
       "      <th>4</th>\n",
       "      <td>Democrat</td>\n",
       "      <td>RepDarrenSoto</td>\n",
       "      <td>RT @Vegalteno: Hurricane season starts on June 1st; Puerto Rico’s readiness...well 🤦🏼‍♂️😡😩@Pwr4PuertoRico @RepDarrenSoto @EspaillatNY</td>\n",
       "    </tr>\n",
       "  </tbody>\n",
       "</table>\n",
       "</div>"
      ],
      "text/plain": [
       "      Party         Handle  \\\n",
       "0  Democrat  RepDarrenSoto   \n",
       "1  Democrat  RepDarrenSoto   \n",
       "2  Democrat  RepDarrenSoto   \n",
       "3  Democrat  RepDarrenSoto   \n",
       "4  Democrat  RepDarrenSoto   \n",
       "\n",
       "                                                                                                                                            Tweet  \n",
       "0  Today, Senate Dems vote to #SaveTheInternet. Proud to support similar #NetNeutrality legislation here in the House… https://t.co/n3tggDLU1L     \n",
       "1  RT @WinterHavenSun: Winter Haven resident / Alta Vista teacher is one of several recognized by @RepDarrenSoto for National Teacher Apprecia…    \n",
       "2  RT @NBCLatino: .@RepDarrenSoto noted that Hurricane Maria has left approximately $90 billion in damages. \\n\\nCongress has allocated about $18…  \n",
       "3  RT @NALCABPolicy: Meeting with @RepDarrenSoto . Thanks for taking the time to meet with @LatinoLeader ED Marucci Guzman. #NALCABPolicy2018.…    \n",
       "4  RT @Vegalteno: Hurricane season starts on June 1st; Puerto Rico’s readiness...well 🤦🏼‍♂️😡😩@Pwr4PuertoRico @RepDarrenSoto @EspaillatNY           "
      ]
     },
     "execution_count": 4,
     "metadata": {},
     "output_type": "execute_result"
    }
   ],
   "source": [
    "tweets.head()"
   ]
  },
  {
   "cell_type": "markdown",
   "metadata": {},
   "source": [
    "## Removing Punctuation\n",
    "\n",
    "\n",
    "It doesn’t add any extra information while treating text data. \n",
    "Therefore removing all instances of it will help us reduce the size of the data."
   ]
  },
  {
   "cell_type": "code",
   "execution_count": 5,
   "metadata": {},
   "outputs": [],
   "source": [
    "tweets['No_Punctuation'] = tweets['Tweet'].str.replace('[^\\w\\s]','')"
   ]
  },
  {
   "cell_type": "code",
   "execution_count": 6,
   "metadata": {},
   "outputs": [
    {
     "data": {
      "text/html": [
       "<div>\n",
       "<style scoped>\n",
       "    .dataframe tbody tr th:only-of-type {\n",
       "        vertical-align: middle;\n",
       "    }\n",
       "\n",
       "    .dataframe tbody tr th {\n",
       "        vertical-align: top;\n",
       "    }\n",
       "\n",
       "    .dataframe thead th {\n",
       "        text-align: right;\n",
       "    }\n",
       "</style>\n",
       "<table border=\"1\" class=\"dataframe\">\n",
       "  <thead>\n",
       "    <tr style=\"text-align: right;\">\n",
       "      <th></th>\n",
       "      <th>Party</th>\n",
       "      <th>Handle</th>\n",
       "      <th>Tweet</th>\n",
       "      <th>No_Punctuation</th>\n",
       "    </tr>\n",
       "  </thead>\n",
       "  <tbody>\n",
       "    <tr>\n",
       "      <th>0</th>\n",
       "      <td>Democrat</td>\n",
       "      <td>RepDarrenSoto</td>\n",
       "      <td>Today, Senate Dems vote to #SaveTheInternet. Proud to support similar #NetNeutrality legislation here in the House… https://t.co/n3tggDLU1L</td>\n",
       "      <td>Today Senate Dems vote to SaveTheInternet Proud to support similar NetNeutrality legislation here in the House httpstcon3tggDLU1L</td>\n",
       "    </tr>\n",
       "    <tr>\n",
       "      <th>1</th>\n",
       "      <td>Democrat</td>\n",
       "      <td>RepDarrenSoto</td>\n",
       "      <td>RT @WinterHavenSun: Winter Haven resident / Alta Vista teacher is one of several recognized by @RepDarrenSoto for National Teacher Apprecia…</td>\n",
       "      <td>RT WinterHavenSun Winter Haven resident  Alta Vista teacher is one of several recognized by RepDarrenSoto for National Teacher Apprecia</td>\n",
       "    </tr>\n",
       "    <tr>\n",
       "      <th>2</th>\n",
       "      <td>Democrat</td>\n",
       "      <td>RepDarrenSoto</td>\n",
       "      <td>RT @NBCLatino: .@RepDarrenSoto noted that Hurricane Maria has left approximately $90 billion in damages. \\n\\nCongress has allocated about $18…</td>\n",
       "      <td>RT NBCLatino RepDarrenSoto noted that Hurricane Maria has left approximately 90 billion in damages \\n\\nCongress has allocated about 18</td>\n",
       "    </tr>\n",
       "    <tr>\n",
       "      <th>3</th>\n",
       "      <td>Democrat</td>\n",
       "      <td>RepDarrenSoto</td>\n",
       "      <td>RT @NALCABPolicy: Meeting with @RepDarrenSoto . Thanks for taking the time to meet with @LatinoLeader ED Marucci Guzman. #NALCABPolicy2018.…</td>\n",
       "      <td>RT NALCABPolicy Meeting with RepDarrenSoto  Thanks for taking the time to meet with LatinoLeader ED Marucci Guzman NALCABPolicy2018</td>\n",
       "    </tr>\n",
       "    <tr>\n",
       "      <th>4</th>\n",
       "      <td>Democrat</td>\n",
       "      <td>RepDarrenSoto</td>\n",
       "      <td>RT @Vegalteno: Hurricane season starts on June 1st; Puerto Rico’s readiness...well 🤦🏼‍♂️😡😩@Pwr4PuertoRico @RepDarrenSoto @EspaillatNY</td>\n",
       "      <td>RT Vegalteno Hurricane season starts on June 1st Puerto Ricos readinesswell Pwr4PuertoRico RepDarrenSoto EspaillatNY</td>\n",
       "    </tr>\n",
       "  </tbody>\n",
       "</table>\n",
       "</div>"
      ],
      "text/plain": [
       "      Party         Handle  \\\n",
       "0  Democrat  RepDarrenSoto   \n",
       "1  Democrat  RepDarrenSoto   \n",
       "2  Democrat  RepDarrenSoto   \n",
       "3  Democrat  RepDarrenSoto   \n",
       "4  Democrat  RepDarrenSoto   \n",
       "\n",
       "                                                                                                                                            Tweet  \\\n",
       "0  Today, Senate Dems vote to #SaveTheInternet. Proud to support similar #NetNeutrality legislation here in the House… https://t.co/n3tggDLU1L      \n",
       "1  RT @WinterHavenSun: Winter Haven resident / Alta Vista teacher is one of several recognized by @RepDarrenSoto for National Teacher Apprecia…     \n",
       "2  RT @NBCLatino: .@RepDarrenSoto noted that Hurricane Maria has left approximately $90 billion in damages. \\n\\nCongress has allocated about $18…   \n",
       "3  RT @NALCABPolicy: Meeting with @RepDarrenSoto . Thanks for taking the time to meet with @LatinoLeader ED Marucci Guzman. #NALCABPolicy2018.…     \n",
       "4  RT @Vegalteno: Hurricane season starts on June 1st; Puerto Rico’s readiness...well 🤦🏼‍♂️😡😩@Pwr4PuertoRico @RepDarrenSoto @EspaillatNY            \n",
       "\n",
       "                                                                                                                            No_Punctuation  \n",
       "0  Today Senate Dems vote to SaveTheInternet Proud to support similar NetNeutrality legislation here in the House httpstcon3tggDLU1L        \n",
       "1  RT WinterHavenSun Winter Haven resident  Alta Vista teacher is one of several recognized by RepDarrenSoto for National Teacher Apprecia  \n",
       "2  RT NBCLatino RepDarrenSoto noted that Hurricane Maria has left approximately 90 billion in damages \\n\\nCongress has allocated about 18   \n",
       "3  RT NALCABPolicy Meeting with RepDarrenSoto  Thanks for taking the time to meet with LatinoLeader ED Marucci Guzman NALCABPolicy2018      \n",
       "4  RT Vegalteno Hurricane season starts on June 1st Puerto Ricos readinesswell Pwr4PuertoRico RepDarrenSoto EspaillatNY                     "
      ]
     },
     "execution_count": 6,
     "metadata": {},
     "output_type": "execute_result"
    }
   ],
   "source": [
    "tweets.head()"
   ]
  },
  {
   "cell_type": "markdown",
   "metadata": {},
   "source": [
    "## Platform Specific Pre-processing\n",
    "\n",
    "\n",
    "    For twitter we might need to do a different pre-processing steps. For example, do you want to keep user names not ? how about hashtags? etc\n"
   ]
  },
  {
   "cell_type": "code",
   "execution_count": 7,
   "metadata": {},
   "outputs": [],
   "source": [
    "#start processing the tweet\n",
    "def processPost(tweet):\n",
    "\n",
    "    #Replace @username with empty string\n",
    "    tweet = re.sub('@[^\\s]+', ' ', tweet)\n",
    "    \n",
    "    #Replace RT with empty string\n",
    "    tweet = re.sub('RT', ' ', tweet)\n",
    "    \n",
    "    #Convert www.* or https?://* to \" \"\n",
    "    tweet = re.sub('((www\\.[^\\s]+)|(https?://[^\\s]+))',' ',tweet)\n",
    "    \n",
    "    #Replace #word with word\n",
    "    tweet = re.sub(r'#([^\\s]+)', r'\\1', tweet)\n",
    "\n",
    "    # remove punctuations\n",
    "    tweet= tweet.translate(str.maketrans('', '', string.punctuation))\n",
    "\n",
    "    return tweet"
   ]
  },
  {
   "cell_type": "code",
   "execution_count": 8,
   "metadata": {},
   "outputs": [],
   "source": [
    "tweets[\"Clean tweet\"] = tweets['Tweet'].apply(lambda x: processPost(x))"
   ]
  },
  {
   "cell_type": "code",
   "execution_count": 282,
   "metadata": {},
   "outputs": [
    {
     "data": {
      "text/html": [
       "<div>\n",
       "<style scoped>\n",
       "    .dataframe tbody tr th:only-of-type {\n",
       "        vertical-align: middle;\n",
       "    }\n",
       "\n",
       "    .dataframe tbody tr th {\n",
       "        vertical-align: top;\n",
       "    }\n",
       "\n",
       "    .dataframe thead th {\n",
       "        text-align: right;\n",
       "    }\n",
       "</style>\n",
       "<table border=\"1\" class=\"dataframe\">\n",
       "  <thead>\n",
       "    <tr style=\"text-align: right;\">\n",
       "      <th></th>\n",
       "      <th>Party</th>\n",
       "      <th>Handle</th>\n",
       "      <th>Tweet</th>\n",
       "      <th>No_Punctuation</th>\n",
       "      <th>Clean tweet</th>\n",
       "    </tr>\n",
       "  </thead>\n",
       "  <tbody>\n",
       "    <tr>\n",
       "      <th>0</th>\n",
       "      <td>Democrat</td>\n",
       "      <td>RepDarrenSoto</td>\n",
       "      <td>Today, Senate Dems vote to #SaveTheInternet. Proud to support similar #NetNeutrality legislation here in the House… https://t.co/n3tggDLU1L</td>\n",
       "      <td>Today Senate Dems vote to SaveTheInternet Proud to support similar NetNeutrality legislation here in the House httpstcon3tggDLU1L</td>\n",
       "      <td>Today Senate Dems vote to SaveTheInternet Proud to support similar NetNeutrality legislation here in the House…</td>\n",
       "    </tr>\n",
       "    <tr>\n",
       "      <th>1</th>\n",
       "      <td>Democrat</td>\n",
       "      <td>RepDarrenSoto</td>\n",
       "      <td>RT @WinterHavenSun: Winter Haven resident / Alta Vista teacher is one of several recognized by @RepDarrenSoto for National Teacher Apprecia…</td>\n",
       "      <td>RT WinterHavenSun Winter Haven resident  Alta Vista teacher is one of several recognized by RepDarrenSoto for National Teacher Apprecia</td>\n",
       "      <td>Winter Haven resident  Alta Vista teacher is one of several recognized by   for National Teacher Apprecia…</td>\n",
       "    </tr>\n",
       "    <tr>\n",
       "      <th>2</th>\n",
       "      <td>Democrat</td>\n",
       "      <td>RepDarrenSoto</td>\n",
       "      <td>RT @NBCLatino: .@RepDarrenSoto noted that Hurricane Maria has left approximately $90 billion in damages. \\n\\nCongress has allocated about $18…</td>\n",
       "      <td>RT NBCLatino RepDarrenSoto noted that Hurricane Maria has left approximately 90 billion in damages \\n\\nCongress has allocated about 18</td>\n",
       "      <td>noted that Hurricane Maria has left approximately 90 billion in damages \\n\\nCongress has allocated about 18…</td>\n",
       "    </tr>\n",
       "    <tr>\n",
       "      <th>3</th>\n",
       "      <td>Democrat</td>\n",
       "      <td>RepDarrenSoto</td>\n",
       "      <td>RT @NALCABPolicy: Meeting with @RepDarrenSoto . Thanks for taking the time to meet with @LatinoLeader ED Marucci Guzman. #NALCABPolicy2018.…</td>\n",
       "      <td>RT NALCABPolicy Meeting with RepDarrenSoto  Thanks for taking the time to meet with LatinoLeader ED Marucci Guzman NALCABPolicy2018</td>\n",
       "      <td>Meeting with    Thanks for taking the time to meet with   ED Marucci Guzman NALCABPolicy2018…</td>\n",
       "    </tr>\n",
       "    <tr>\n",
       "      <th>4</th>\n",
       "      <td>Democrat</td>\n",
       "      <td>RepDarrenSoto</td>\n",
       "      <td>RT @Vegalteno: Hurricane season starts on June 1st; Puerto Rico’s readiness...well 🤦🏼‍♂️😡😩@Pwr4PuertoRico @RepDarrenSoto @EspaillatNY</td>\n",
       "      <td>RT Vegalteno Hurricane season starts on June 1st Puerto Ricos readinesswell Pwr4PuertoRico RepDarrenSoto EspaillatNY</td>\n",
       "      <td>Hurricane season starts on June 1st Puerto Rico’s readinesswell 🤦🏼‍♂️😡😩</td>\n",
       "    </tr>\n",
       "  </tbody>\n",
       "</table>\n",
       "</div>"
      ],
      "text/plain": [
       "      Party         Handle  \\\n",
       "0  Democrat  RepDarrenSoto   \n",
       "1  Democrat  RepDarrenSoto   \n",
       "2  Democrat  RepDarrenSoto   \n",
       "3  Democrat  RepDarrenSoto   \n",
       "4  Democrat  RepDarrenSoto   \n",
       "\n",
       "                                                                                                                                            Tweet  \\\n",
       "0  Today, Senate Dems vote to #SaveTheInternet. Proud to support similar #NetNeutrality legislation here in the House… https://t.co/n3tggDLU1L      \n",
       "1  RT @WinterHavenSun: Winter Haven resident / Alta Vista teacher is one of several recognized by @RepDarrenSoto for National Teacher Apprecia…     \n",
       "2  RT @NBCLatino: .@RepDarrenSoto noted that Hurricane Maria has left approximately $90 billion in damages. \\n\\nCongress has allocated about $18…   \n",
       "3  RT @NALCABPolicy: Meeting with @RepDarrenSoto . Thanks for taking the time to meet with @LatinoLeader ED Marucci Guzman. #NALCABPolicy2018.…     \n",
       "4  RT @Vegalteno: Hurricane season starts on June 1st; Puerto Rico’s readiness...well 🤦🏼‍♂️😡😩@Pwr4PuertoRico @RepDarrenSoto @EspaillatNY            \n",
       "\n",
       "                                                                                                                            No_Punctuation  \\\n",
       "0  Today Senate Dems vote to SaveTheInternet Proud to support similar NetNeutrality legislation here in the House httpstcon3tggDLU1L         \n",
       "1  RT WinterHavenSun Winter Haven resident  Alta Vista teacher is one of several recognized by RepDarrenSoto for National Teacher Apprecia   \n",
       "2  RT NBCLatino RepDarrenSoto noted that Hurricane Maria has left approximately 90 billion in damages \\n\\nCongress has allocated about 18    \n",
       "3  RT NALCABPolicy Meeting with RepDarrenSoto  Thanks for taking the time to meet with LatinoLeader ED Marucci Guzman NALCABPolicy2018       \n",
       "4  RT Vegalteno Hurricane season starts on June 1st Puerto Ricos readinesswell Pwr4PuertoRico RepDarrenSoto EspaillatNY                      \n",
       "\n",
       "                                                                                                          Clean tweet  \n",
       "0  Today Senate Dems vote to SaveTheInternet Proud to support similar NetNeutrality legislation here in the House…     \n",
       "1      Winter Haven resident  Alta Vista teacher is one of several recognized by   for National Teacher Apprecia…      \n",
       "2        noted that Hurricane Maria has left approximately 90 billion in damages \\n\\nCongress has allocated about 18…  \n",
       "3      Meeting with    Thanks for taking the time to meet with   ED Marucci Guzman NALCABPolicy2018…                   \n",
       "4      Hurricane season starts on June 1st Puerto Rico’s readinesswell 🤦🏼‍♂️😡😩                                         "
      ]
     },
     "execution_count": 282,
     "metadata": {},
     "output_type": "execute_result"
    }
   ],
   "source": [
    "tweets.head()"
   ]
  },
  {
   "cell_type": "markdown",
   "metadata": {},
   "source": [
    "## Lower case\n",
    "\n",
    "\n",
    "Help with avoiding having multiple copies of the same words. \n",
    "For example, while calculating the word count, ‘Analytics’ and ‘analytics’ will be taken as different words."
   ]
  },
  {
   "cell_type": "code",
   "execution_count": 9,
   "metadata": {},
   "outputs": [],
   "source": [
    "tweets['Clean tweet'] = tweets['Clean tweet'].apply(lambda x: \" \".join(x.lower() for x in x.split()))"
   ]
  },
  {
   "cell_type": "code",
   "execution_count": 10,
   "metadata": {},
   "outputs": [
    {
     "data": {
      "text/html": [
       "<div>\n",
       "<style scoped>\n",
       "    .dataframe tbody tr th:only-of-type {\n",
       "        vertical-align: middle;\n",
       "    }\n",
       "\n",
       "    .dataframe tbody tr th {\n",
       "        vertical-align: top;\n",
       "    }\n",
       "\n",
       "    .dataframe thead th {\n",
       "        text-align: right;\n",
       "    }\n",
       "</style>\n",
       "<table border=\"1\" class=\"dataframe\">\n",
       "  <thead>\n",
       "    <tr style=\"text-align: right;\">\n",
       "      <th></th>\n",
       "      <th>Party</th>\n",
       "      <th>Handle</th>\n",
       "      <th>Tweet</th>\n",
       "      <th>No_Punctuation</th>\n",
       "      <th>Clean tweet</th>\n",
       "    </tr>\n",
       "  </thead>\n",
       "  <tbody>\n",
       "    <tr>\n",
       "      <th>0</th>\n",
       "      <td>Democrat</td>\n",
       "      <td>RepDarrenSoto</td>\n",
       "      <td>Today, Senate Dems vote to #SaveTheInternet. Proud to support similar #NetNeutrality legislation here in the House… https://t.co/n3tggDLU1L</td>\n",
       "      <td>Today Senate Dems vote to SaveTheInternet Proud to support similar NetNeutrality legislation here in the House httpstcon3tggDLU1L</td>\n",
       "      <td>today senate dems vote to savetheinternet proud to support similar netneutrality legislation here in the house…</td>\n",
       "    </tr>\n",
       "    <tr>\n",
       "      <th>1</th>\n",
       "      <td>Democrat</td>\n",
       "      <td>RepDarrenSoto</td>\n",
       "      <td>RT @WinterHavenSun: Winter Haven resident / Alta Vista teacher is one of several recognized by @RepDarrenSoto for National Teacher Apprecia…</td>\n",
       "      <td>RT WinterHavenSun Winter Haven resident  Alta Vista teacher is one of several recognized by RepDarrenSoto for National Teacher Apprecia</td>\n",
       "      <td>winter haven resident alta vista teacher is one of several recognized by for national teacher apprecia…</td>\n",
       "    </tr>\n",
       "    <tr>\n",
       "      <th>2</th>\n",
       "      <td>Democrat</td>\n",
       "      <td>RepDarrenSoto</td>\n",
       "      <td>RT @NBCLatino: .@RepDarrenSoto noted that Hurricane Maria has left approximately $90 billion in damages. \\n\\nCongress has allocated about $18…</td>\n",
       "      <td>RT NBCLatino RepDarrenSoto noted that Hurricane Maria has left approximately 90 billion in damages \\n\\nCongress has allocated about 18</td>\n",
       "      <td>noted that hurricane maria has left approximately 90 billion in damages congress has allocated about 18…</td>\n",
       "    </tr>\n",
       "    <tr>\n",
       "      <th>3</th>\n",
       "      <td>Democrat</td>\n",
       "      <td>RepDarrenSoto</td>\n",
       "      <td>RT @NALCABPolicy: Meeting with @RepDarrenSoto . Thanks for taking the time to meet with @LatinoLeader ED Marucci Guzman. #NALCABPolicy2018.…</td>\n",
       "      <td>RT NALCABPolicy Meeting with RepDarrenSoto  Thanks for taking the time to meet with LatinoLeader ED Marucci Guzman NALCABPolicy2018</td>\n",
       "      <td>meeting with thanks for taking the time to meet with ed marucci guzman nalcabpolicy2018…</td>\n",
       "    </tr>\n",
       "    <tr>\n",
       "      <th>4</th>\n",
       "      <td>Democrat</td>\n",
       "      <td>RepDarrenSoto</td>\n",
       "      <td>RT @Vegalteno: Hurricane season starts on June 1st; Puerto Rico’s readiness...well 🤦🏼‍♂️😡😩@Pwr4PuertoRico @RepDarrenSoto @EspaillatNY</td>\n",
       "      <td>RT Vegalteno Hurricane season starts on June 1st Puerto Ricos readinesswell Pwr4PuertoRico RepDarrenSoto EspaillatNY</td>\n",
       "      <td>hurricane season starts on june 1st puerto rico’s readinesswell 🤦🏼‍♂️😡😩</td>\n",
       "    </tr>\n",
       "  </tbody>\n",
       "</table>\n",
       "</div>"
      ],
      "text/plain": [
       "      Party         Handle  \\\n",
       "0  Democrat  RepDarrenSoto   \n",
       "1  Democrat  RepDarrenSoto   \n",
       "2  Democrat  RepDarrenSoto   \n",
       "3  Democrat  RepDarrenSoto   \n",
       "4  Democrat  RepDarrenSoto   \n",
       "\n",
       "                                                                                                                                            Tweet  \\\n",
       "0  Today, Senate Dems vote to #SaveTheInternet. Proud to support similar #NetNeutrality legislation here in the House… https://t.co/n3tggDLU1L      \n",
       "1  RT @WinterHavenSun: Winter Haven resident / Alta Vista teacher is one of several recognized by @RepDarrenSoto for National Teacher Apprecia…     \n",
       "2  RT @NBCLatino: .@RepDarrenSoto noted that Hurricane Maria has left approximately $90 billion in damages. \\n\\nCongress has allocated about $18…   \n",
       "3  RT @NALCABPolicy: Meeting with @RepDarrenSoto . Thanks for taking the time to meet with @LatinoLeader ED Marucci Guzman. #NALCABPolicy2018.…     \n",
       "4  RT @Vegalteno: Hurricane season starts on June 1st; Puerto Rico’s readiness...well 🤦🏼‍♂️😡😩@Pwr4PuertoRico @RepDarrenSoto @EspaillatNY            \n",
       "\n",
       "                                                                                                                            No_Punctuation  \\\n",
       "0  Today Senate Dems vote to SaveTheInternet Proud to support similar NetNeutrality legislation here in the House httpstcon3tggDLU1L         \n",
       "1  RT WinterHavenSun Winter Haven resident  Alta Vista teacher is one of several recognized by RepDarrenSoto for National Teacher Apprecia   \n",
       "2  RT NBCLatino RepDarrenSoto noted that Hurricane Maria has left approximately 90 billion in damages \\n\\nCongress has allocated about 18    \n",
       "3  RT NALCABPolicy Meeting with RepDarrenSoto  Thanks for taking the time to meet with LatinoLeader ED Marucci Guzman NALCABPolicy2018       \n",
       "4  RT Vegalteno Hurricane season starts on June 1st Puerto Ricos readinesswell Pwr4PuertoRico RepDarrenSoto EspaillatNY                      \n",
       "\n",
       "                                                                                                       Clean tweet  \n",
       "0  today senate dems vote to savetheinternet proud to support similar netneutrality legislation here in the house…  \n",
       "1  winter haven resident alta vista teacher is one of several recognized by for national teacher apprecia…          \n",
       "2  noted that hurricane maria has left approximately 90 billion in damages congress has allocated about 18…         \n",
       "3  meeting with thanks for taking the time to meet with ed marucci guzman nalcabpolicy2018…                         \n",
       "4  hurricane season starts on june 1st puerto rico’s readinesswell 🤦🏼‍♂️😡😩                                          "
      ]
     },
     "execution_count": 10,
     "metadata": {},
     "output_type": "execute_result"
    }
   ],
   "source": [
    "tweets.head()"
   ]
  },
  {
   "cell_type": "markdown",
   "metadata": {},
   "source": [
    "## Removal of Stop Words\n",
    "\n",
    "\n",
    "stop words (or commonly occurring words) should be removed from the text data. \n",
    "For this purpose, we can either create a list of stopwords ourselves or we can use predefined libraries."
   ]
  },
  {
   "cell_type": "code",
   "execution_count": 285,
   "metadata": {},
   "outputs": [],
   "source": [
    "from nltk.corpus import stopwords\n",
    "\n",
    "stop = stopwords.words('english')"
   ]
  },
  {
   "cell_type": "code",
   "execution_count": 286,
   "metadata": {},
   "outputs": [],
   "source": [
    "tweets['Clean tweet'] = tweets['Clean tweet'].apply(lambda x: \" \".join(x for x in x.split() if x not in stop))"
   ]
  },
  {
   "cell_type": "code",
   "execution_count": 287,
   "metadata": {},
   "outputs": [
    {
     "data": {
      "text/html": [
       "<div>\n",
       "<style scoped>\n",
       "    .dataframe tbody tr th:only-of-type {\n",
       "        vertical-align: middle;\n",
       "    }\n",
       "\n",
       "    .dataframe tbody tr th {\n",
       "        vertical-align: top;\n",
       "    }\n",
       "\n",
       "    .dataframe thead th {\n",
       "        text-align: right;\n",
       "    }\n",
       "</style>\n",
       "<table border=\"1\" class=\"dataframe\">\n",
       "  <thead>\n",
       "    <tr style=\"text-align: right;\">\n",
       "      <th></th>\n",
       "      <th>Party</th>\n",
       "      <th>Handle</th>\n",
       "      <th>Tweet</th>\n",
       "      <th>No_Punctuation</th>\n",
       "      <th>Clean tweet</th>\n",
       "    </tr>\n",
       "  </thead>\n",
       "  <tbody>\n",
       "    <tr>\n",
       "      <th>0</th>\n",
       "      <td>Democrat</td>\n",
       "      <td>RepDarrenSoto</td>\n",
       "      <td>Today, Senate Dems vote to #SaveTheInternet. Proud to support similar #NetNeutrality legislation here in the House… https://t.co/n3tggDLU1L</td>\n",
       "      <td>Today Senate Dems vote to SaveTheInternet Proud to support similar NetNeutrality legislation here in the House httpstcon3tggDLU1L</td>\n",
       "      <td>today senate dems vote savetheinternet proud support similar netneutrality legislation house…</td>\n",
       "    </tr>\n",
       "    <tr>\n",
       "      <th>1</th>\n",
       "      <td>Democrat</td>\n",
       "      <td>RepDarrenSoto</td>\n",
       "      <td>RT @WinterHavenSun: Winter Haven resident / Alta Vista teacher is one of several recognized by @RepDarrenSoto for National Teacher Apprecia…</td>\n",
       "      <td>RT WinterHavenSun Winter Haven resident  Alta Vista teacher is one of several recognized by RepDarrenSoto for National Teacher Apprecia</td>\n",
       "      <td>winter resident alta vista teacher one several recognized national teacher apprecia…</td>\n",
       "    </tr>\n",
       "    <tr>\n",
       "      <th>2</th>\n",
       "      <td>Democrat</td>\n",
       "      <td>RepDarrenSoto</td>\n",
       "      <td>RT @NBCLatino: .@RepDarrenSoto noted that Hurricane Maria has left approximately $90 billion in damages. \\n\\nCongress has allocated about $18…</td>\n",
       "      <td>RT NBCLatino RepDarrenSoto noted that Hurricane Maria has left approximately 90 billion in damages \\n\\nCongress has allocated about 18</td>\n",
       "      <td>noted hurricane maria left approximately 90 billion damages congress allocated 18…</td>\n",
       "    </tr>\n",
       "    <tr>\n",
       "      <th>3</th>\n",
       "      <td>Democrat</td>\n",
       "      <td>RepDarrenSoto</td>\n",
       "      <td>RT @NALCABPolicy: Meeting with @RepDarrenSoto . Thanks for taking the time to meet with @LatinoLeader ED Marucci Guzman. #NALCABPolicy2018.…</td>\n",
       "      <td>RT NALCABPolicy Meeting with RepDarrenSoto  Thanks for taking the time to meet with LatinoLeader ED Marucci Guzman NALCABPolicy2018</td>\n",
       "      <td>meeting thanks taking time meet ed marucci guzman nalcabpolicy2018…</td>\n",
       "    </tr>\n",
       "    <tr>\n",
       "      <th>4</th>\n",
       "      <td>Democrat</td>\n",
       "      <td>RepDarrenSoto</td>\n",
       "      <td>RT @Vegalteno: Hurricane season starts on June 1st; Puerto Rico’s readiness...well 🤦🏼‍♂️😡😩@Pwr4PuertoRico @RepDarrenSoto @EspaillatNY</td>\n",
       "      <td>RT Vegalteno Hurricane season starts on June 1st Puerto Ricos readinesswell Pwr4PuertoRico RepDarrenSoto EspaillatNY</td>\n",
       "      <td>hurricane season starts june 1st puerto rico’s readinesswell 🤦🏼‍♂️😡😩</td>\n",
       "    </tr>\n",
       "  </tbody>\n",
       "</table>\n",
       "</div>"
      ],
      "text/plain": [
       "      Party         Handle  \\\n",
       "0  Democrat  RepDarrenSoto   \n",
       "1  Democrat  RepDarrenSoto   \n",
       "2  Democrat  RepDarrenSoto   \n",
       "3  Democrat  RepDarrenSoto   \n",
       "4  Democrat  RepDarrenSoto   \n",
       "\n",
       "                                                                                                                                            Tweet  \\\n",
       "0  Today, Senate Dems vote to #SaveTheInternet. Proud to support similar #NetNeutrality legislation here in the House… https://t.co/n3tggDLU1L      \n",
       "1  RT @WinterHavenSun: Winter Haven resident / Alta Vista teacher is one of several recognized by @RepDarrenSoto for National Teacher Apprecia…     \n",
       "2  RT @NBCLatino: .@RepDarrenSoto noted that Hurricane Maria has left approximately $90 billion in damages. \\n\\nCongress has allocated about $18…   \n",
       "3  RT @NALCABPolicy: Meeting with @RepDarrenSoto . Thanks for taking the time to meet with @LatinoLeader ED Marucci Guzman. #NALCABPolicy2018.…     \n",
       "4  RT @Vegalteno: Hurricane season starts on June 1st; Puerto Rico’s readiness...well 🤦🏼‍♂️😡😩@Pwr4PuertoRico @RepDarrenSoto @EspaillatNY            \n",
       "\n",
       "                                                                                                                            No_Punctuation  \\\n",
       "0  Today Senate Dems vote to SaveTheInternet Proud to support similar NetNeutrality legislation here in the House httpstcon3tggDLU1L         \n",
       "1  RT WinterHavenSun Winter Haven resident  Alta Vista teacher is one of several recognized by RepDarrenSoto for National Teacher Apprecia   \n",
       "2  RT NBCLatino RepDarrenSoto noted that Hurricane Maria has left approximately 90 billion in damages \\n\\nCongress has allocated about 18    \n",
       "3  RT NALCABPolicy Meeting with RepDarrenSoto  Thanks for taking the time to meet with LatinoLeader ED Marucci Guzman NALCABPolicy2018       \n",
       "4  RT Vegalteno Hurricane season starts on June 1st Puerto Ricos readinesswell Pwr4PuertoRico RepDarrenSoto EspaillatNY                      \n",
       "\n",
       "                                                                                     Clean tweet  \n",
       "0  today senate dems vote savetheinternet proud support similar netneutrality legislation house…  \n",
       "1  winter resident alta vista teacher one several recognized national teacher apprecia…           \n",
       "2  noted hurricane maria left approximately 90 billion damages congress allocated 18…             \n",
       "3  meeting thanks taking time meet ed marucci guzman nalcabpolicy2018…                            \n",
       "4  hurricane season starts june 1st puerto rico’s readinesswell 🤦🏼‍♂️😡😩                           "
      ]
     },
     "execution_count": 287,
     "metadata": {},
     "output_type": "execute_result"
    }
   ],
   "source": [
    "tweets.head()"
   ]
  },
  {
   "cell_type": "markdown",
   "metadata": {},
   "source": [
    "## Common word removal\n",
    "\n",
    "\n",
    "We can  remove commonly occurring words from our text data beside stop words.\n",
    "We can check the 10 most frequently occurring words in our text data then take call to remove or retain them."
   ]
  },
  {
   "cell_type": "code",
   "execution_count": 288,
   "metadata": {},
   "outputs": [],
   "source": [
    "freq = pd.Series(' '.join(tweets['Clean tweet']).split()).value_counts()[:20]"
   ]
  },
  {
   "cell_type": "code",
   "execution_count": 289,
   "metadata": {},
   "outputs": [
    {
     "data": {
      "text/plain": [
       "amp          9088\n",
       "today        7581\n",
       "great        4492\n",
       "us           3966\n",
       "thank        3838\n",
       "house        3746\n",
       "tax          3476\n",
       "bill         3164\n",
       "day          2978\n",
       "new          2788\n",
       "act          2721\n",
       "work         2610\n",
       "time         2575\n",
       "congress     2553\n",
       "thanks       2413\n",
       "people       2322\n",
       "trump        2305\n",
       "week         2250\n",
       "president    2209\n",
       "proud        2192\n",
       "dtype: int64"
      ]
     },
     "execution_count": 289,
     "metadata": {},
     "output_type": "execute_result"
    }
   ],
   "source": [
    "freq"
   ]
  },
  {
   "cell_type": "code",
   "execution_count": 290,
   "metadata": {},
   "outputs": [],
   "source": [
    "## Now, let’s remove these words as their presence is not important "
   ]
  },
  {
   "cell_type": "code",
   "execution_count": 291,
   "metadata": {},
   "outputs": [],
   "source": [
    "freq = list(freq.index)\n",
    "tweets['Clean tweet'] = tweets['Clean tweet'].apply(lambda x: \" \".join(x for x in x.split() if x not in freq))"
   ]
  },
  {
   "cell_type": "code",
   "execution_count": 292,
   "metadata": {},
   "outputs": [
    {
     "data": {
      "text/html": [
       "<div>\n",
       "<style scoped>\n",
       "    .dataframe tbody tr th:only-of-type {\n",
       "        vertical-align: middle;\n",
       "    }\n",
       "\n",
       "    .dataframe tbody tr th {\n",
       "        vertical-align: top;\n",
       "    }\n",
       "\n",
       "    .dataframe thead th {\n",
       "        text-align: right;\n",
       "    }\n",
       "</style>\n",
       "<table border=\"1\" class=\"dataframe\">\n",
       "  <thead>\n",
       "    <tr style=\"text-align: right;\">\n",
       "      <th></th>\n",
       "      <th>Party</th>\n",
       "      <th>Handle</th>\n",
       "      <th>Tweet</th>\n",
       "      <th>No_Punctuation</th>\n",
       "      <th>Clean tweet</th>\n",
       "    </tr>\n",
       "  </thead>\n",
       "  <tbody>\n",
       "    <tr>\n",
       "      <th>0</th>\n",
       "      <td>Democrat</td>\n",
       "      <td>RepDarrenSoto</td>\n",
       "      <td>Today, Senate Dems vote to #SaveTheInternet. Proud to support similar #NetNeutrality legislation here in the House… https://t.co/n3tggDLU1L</td>\n",
       "      <td>Today Senate Dems vote to SaveTheInternet Proud to support similar NetNeutrality legislation here in the House httpstcon3tggDLU1L</td>\n",
       "      <td>senate dems vote savetheinternet support similar netneutrality legislation house…</td>\n",
       "    </tr>\n",
       "    <tr>\n",
       "      <th>1</th>\n",
       "      <td>Democrat</td>\n",
       "      <td>RepDarrenSoto</td>\n",
       "      <td>RT @WinterHavenSun: Winter Haven resident / Alta Vista teacher is one of several recognized by @RepDarrenSoto for National Teacher Apprecia…</td>\n",
       "      <td>RT WinterHavenSun Winter Haven resident  Alta Vista teacher is one of several recognized by RepDarrenSoto for National Teacher Apprecia</td>\n",
       "      <td>winter resident alta vista teacher one several recognized national teacher apprecia…</td>\n",
       "    </tr>\n",
       "    <tr>\n",
       "      <th>2</th>\n",
       "      <td>Democrat</td>\n",
       "      <td>RepDarrenSoto</td>\n",
       "      <td>RT @NBCLatino: .@RepDarrenSoto noted that Hurricane Maria has left approximately $90 billion in damages. \\n\\nCongress has allocated about $18…</td>\n",
       "      <td>RT NBCLatino RepDarrenSoto noted that Hurricane Maria has left approximately 90 billion in damages \\n\\nCongress has allocated about 18</td>\n",
       "      <td>noted hurricane maria left approximately 90 billion damages allocated 18…</td>\n",
       "    </tr>\n",
       "    <tr>\n",
       "      <th>3</th>\n",
       "      <td>Democrat</td>\n",
       "      <td>RepDarrenSoto</td>\n",
       "      <td>RT @NALCABPolicy: Meeting with @RepDarrenSoto . Thanks for taking the time to meet with @LatinoLeader ED Marucci Guzman. #NALCABPolicy2018.…</td>\n",
       "      <td>RT NALCABPolicy Meeting with RepDarrenSoto  Thanks for taking the time to meet with LatinoLeader ED Marucci Guzman NALCABPolicy2018</td>\n",
       "      <td>meeting taking meet ed marucci guzman nalcabpolicy2018…</td>\n",
       "    </tr>\n",
       "    <tr>\n",
       "      <th>4</th>\n",
       "      <td>Democrat</td>\n",
       "      <td>RepDarrenSoto</td>\n",
       "      <td>RT @Vegalteno: Hurricane season starts on June 1st; Puerto Rico’s readiness...well 🤦🏼‍♂️😡😩@Pwr4PuertoRico @RepDarrenSoto @EspaillatNY</td>\n",
       "      <td>RT Vegalteno Hurricane season starts on June 1st Puerto Ricos readinesswell Pwr4PuertoRico RepDarrenSoto EspaillatNY</td>\n",
       "      <td>hurricane season starts june 1st puerto rico’s readinesswell 🤦🏼‍♂️😡😩</td>\n",
       "    </tr>\n",
       "  </tbody>\n",
       "</table>\n",
       "</div>"
      ],
      "text/plain": [
       "      Party         Handle  \\\n",
       "0  Democrat  RepDarrenSoto   \n",
       "1  Democrat  RepDarrenSoto   \n",
       "2  Democrat  RepDarrenSoto   \n",
       "3  Democrat  RepDarrenSoto   \n",
       "4  Democrat  RepDarrenSoto   \n",
       "\n",
       "                                                                                                                                            Tweet  \\\n",
       "0  Today, Senate Dems vote to #SaveTheInternet. Proud to support similar #NetNeutrality legislation here in the House… https://t.co/n3tggDLU1L      \n",
       "1  RT @WinterHavenSun: Winter Haven resident / Alta Vista teacher is one of several recognized by @RepDarrenSoto for National Teacher Apprecia…     \n",
       "2  RT @NBCLatino: .@RepDarrenSoto noted that Hurricane Maria has left approximately $90 billion in damages. \\n\\nCongress has allocated about $18…   \n",
       "3  RT @NALCABPolicy: Meeting with @RepDarrenSoto . Thanks for taking the time to meet with @LatinoLeader ED Marucci Guzman. #NALCABPolicy2018.…     \n",
       "4  RT @Vegalteno: Hurricane season starts on June 1st; Puerto Rico’s readiness...well 🤦🏼‍♂️😡😩@Pwr4PuertoRico @RepDarrenSoto @EspaillatNY            \n",
       "\n",
       "                                                                                                                            No_Punctuation  \\\n",
       "0  Today Senate Dems vote to SaveTheInternet Proud to support similar NetNeutrality legislation here in the House httpstcon3tggDLU1L         \n",
       "1  RT WinterHavenSun Winter Haven resident  Alta Vista teacher is one of several recognized by RepDarrenSoto for National Teacher Apprecia   \n",
       "2  RT NBCLatino RepDarrenSoto noted that Hurricane Maria has left approximately 90 billion in damages \\n\\nCongress has allocated about 18    \n",
       "3  RT NALCABPolicy Meeting with RepDarrenSoto  Thanks for taking the time to meet with LatinoLeader ED Marucci Guzman NALCABPolicy2018       \n",
       "4  RT Vegalteno Hurricane season starts on June 1st Puerto Ricos readinesswell Pwr4PuertoRico RepDarrenSoto EspaillatNY                      \n",
       "\n",
       "                                                                            Clean tweet  \n",
       "0  senate dems vote savetheinternet support similar netneutrality legislation house…     \n",
       "1  winter resident alta vista teacher one several recognized national teacher apprecia…  \n",
       "2  noted hurricane maria left approximately 90 billion damages allocated 18…             \n",
       "3  meeting taking meet ed marucci guzman nalcabpolicy2018…                               \n",
       "4  hurricane season starts june 1st puerto rico’s readinesswell 🤦🏼‍♂️😡😩                  "
      ]
     },
     "execution_count": 292,
     "metadata": {},
     "output_type": "execute_result"
    }
   ],
   "source": [
    "tweets.head()"
   ]
  },
  {
   "cell_type": "markdown",
   "metadata": {},
   "source": [
    "## Rare words removal\n",
    "\n",
    "\n",
    "Because they’re so rare, the association between them and other words is dominated by noise. \n",
    "You can replace rare words with a more general form and then this will have higher counts."
   ]
  },
  {
   "cell_type": "code",
   "execution_count": 293,
   "metadata": {},
   "outputs": [],
   "source": [
    "freq = pd.Series(' '.join(tweets['Clean tweet']).split()).value_counts()[-10:]"
   ]
  },
  {
   "cell_type": "code",
   "execution_count": 294,
   "metadata": {},
   "outputs": [
    {
     "data": {
      "text/plain": [
       "undertaking…    1\n",
       "apprehend       1\n",
       "intellect       1\n",
       "crysta…         1\n",
       "9pm11pm         1\n",
       "soros’s         1\n",
       "constl          1\n",
       "“selective      1\n",
       "mhhh            1\n",
       "4133            1\n",
       "dtype: int64"
      ]
     },
     "execution_count": 294,
     "metadata": {},
     "output_type": "execute_result"
    }
   ],
   "source": [
    "freq"
   ]
  },
  {
   "cell_type": "code",
   "execution_count": 295,
   "metadata": {},
   "outputs": [],
   "source": [
    "freq = list(freq.index)"
   ]
  },
  {
   "cell_type": "code",
   "execution_count": 296,
   "metadata": {},
   "outputs": [],
   "source": [
    "tweets['Clean tweet'] = tweets['Tweet'].apply(lambda x: \" \".join(x for x in x.split() if x not in freq))"
   ]
  },
  {
   "cell_type": "code",
   "execution_count": 297,
   "metadata": {},
   "outputs": [
    {
     "data": {
      "text/html": [
       "<div>\n",
       "<style scoped>\n",
       "    .dataframe tbody tr th:only-of-type {\n",
       "        vertical-align: middle;\n",
       "    }\n",
       "\n",
       "    .dataframe tbody tr th {\n",
       "        vertical-align: top;\n",
       "    }\n",
       "\n",
       "    .dataframe thead th {\n",
       "        text-align: right;\n",
       "    }\n",
       "</style>\n",
       "<table border=\"1\" class=\"dataframe\">\n",
       "  <thead>\n",
       "    <tr style=\"text-align: right;\">\n",
       "      <th></th>\n",
       "      <th>Party</th>\n",
       "      <th>Handle</th>\n",
       "      <th>Tweet</th>\n",
       "      <th>No_Punctuation</th>\n",
       "      <th>Clean tweet</th>\n",
       "    </tr>\n",
       "  </thead>\n",
       "  <tbody>\n",
       "    <tr>\n",
       "      <th>0</th>\n",
       "      <td>Democrat</td>\n",
       "      <td>RepDarrenSoto</td>\n",
       "      <td>Today, Senate Dems vote to #SaveTheInternet. Proud to support similar #NetNeutrality legislation here in the House… https://t.co/n3tggDLU1L</td>\n",
       "      <td>Today Senate Dems vote to SaveTheInternet Proud to support similar NetNeutrality legislation here in the House httpstcon3tggDLU1L</td>\n",
       "      <td>Today, Senate Dems vote to #SaveTheInternet. Proud to support similar #NetNeutrality legislation here in the House… https://t.co/n3tggDLU1L</td>\n",
       "    </tr>\n",
       "    <tr>\n",
       "      <th>1</th>\n",
       "      <td>Democrat</td>\n",
       "      <td>RepDarrenSoto</td>\n",
       "      <td>RT @WinterHavenSun: Winter Haven resident / Alta Vista teacher is one of several recognized by @RepDarrenSoto for National Teacher Apprecia…</td>\n",
       "      <td>RT WinterHavenSun Winter Haven resident  Alta Vista teacher is one of several recognized by RepDarrenSoto for National Teacher Apprecia</td>\n",
       "      <td>RT @WinterHavenSun: Winter Haven resident / Alta Vista teacher is one of several recognized by @RepDarrenSoto for National Teacher Apprecia…</td>\n",
       "    </tr>\n",
       "    <tr>\n",
       "      <th>2</th>\n",
       "      <td>Democrat</td>\n",
       "      <td>RepDarrenSoto</td>\n",
       "      <td>RT @NBCLatino: .@RepDarrenSoto noted that Hurricane Maria has left approximately $90 billion in damages. \\n\\nCongress has allocated about $18…</td>\n",
       "      <td>RT NBCLatino RepDarrenSoto noted that Hurricane Maria has left approximately 90 billion in damages \\n\\nCongress has allocated about 18</td>\n",
       "      <td>RT @NBCLatino: .@RepDarrenSoto noted that Hurricane Maria has left approximately $90 billion in damages. Congress has allocated about $18…</td>\n",
       "    </tr>\n",
       "    <tr>\n",
       "      <th>3</th>\n",
       "      <td>Democrat</td>\n",
       "      <td>RepDarrenSoto</td>\n",
       "      <td>RT @NALCABPolicy: Meeting with @RepDarrenSoto . Thanks for taking the time to meet with @LatinoLeader ED Marucci Guzman. #NALCABPolicy2018.…</td>\n",
       "      <td>RT NALCABPolicy Meeting with RepDarrenSoto  Thanks for taking the time to meet with LatinoLeader ED Marucci Guzman NALCABPolicy2018</td>\n",
       "      <td>RT @NALCABPolicy: Meeting with @RepDarrenSoto . Thanks for taking the time to meet with @LatinoLeader ED Marucci Guzman. #NALCABPolicy2018.…</td>\n",
       "    </tr>\n",
       "    <tr>\n",
       "      <th>4</th>\n",
       "      <td>Democrat</td>\n",
       "      <td>RepDarrenSoto</td>\n",
       "      <td>RT @Vegalteno: Hurricane season starts on June 1st; Puerto Rico’s readiness...well 🤦🏼‍♂️😡😩@Pwr4PuertoRico @RepDarrenSoto @EspaillatNY</td>\n",
       "      <td>RT Vegalteno Hurricane season starts on June 1st Puerto Ricos readinesswell Pwr4PuertoRico RepDarrenSoto EspaillatNY</td>\n",
       "      <td>RT @Vegalteno: Hurricane season starts on June 1st; Puerto Rico’s readiness...well 🤦🏼‍♂️😡😩@Pwr4PuertoRico @RepDarrenSoto @EspaillatNY</td>\n",
       "    </tr>\n",
       "  </tbody>\n",
       "</table>\n",
       "</div>"
      ],
      "text/plain": [
       "      Party         Handle  \\\n",
       "0  Democrat  RepDarrenSoto   \n",
       "1  Democrat  RepDarrenSoto   \n",
       "2  Democrat  RepDarrenSoto   \n",
       "3  Democrat  RepDarrenSoto   \n",
       "4  Democrat  RepDarrenSoto   \n",
       "\n",
       "                                                                                                                                            Tweet  \\\n",
       "0  Today, Senate Dems vote to #SaveTheInternet. Proud to support similar #NetNeutrality legislation here in the House… https://t.co/n3tggDLU1L      \n",
       "1  RT @WinterHavenSun: Winter Haven resident / Alta Vista teacher is one of several recognized by @RepDarrenSoto for National Teacher Apprecia…     \n",
       "2  RT @NBCLatino: .@RepDarrenSoto noted that Hurricane Maria has left approximately $90 billion in damages. \\n\\nCongress has allocated about $18…   \n",
       "3  RT @NALCABPolicy: Meeting with @RepDarrenSoto . Thanks for taking the time to meet with @LatinoLeader ED Marucci Guzman. #NALCABPolicy2018.…     \n",
       "4  RT @Vegalteno: Hurricane season starts on June 1st; Puerto Rico’s readiness...well 🤦🏼‍♂️😡😩@Pwr4PuertoRico @RepDarrenSoto @EspaillatNY            \n",
       "\n",
       "                                                                                                                            No_Punctuation  \\\n",
       "0  Today Senate Dems vote to SaveTheInternet Proud to support similar NetNeutrality legislation here in the House httpstcon3tggDLU1L         \n",
       "1  RT WinterHavenSun Winter Haven resident  Alta Vista teacher is one of several recognized by RepDarrenSoto for National Teacher Apprecia   \n",
       "2  RT NBCLatino RepDarrenSoto noted that Hurricane Maria has left approximately 90 billion in damages \\n\\nCongress has allocated about 18    \n",
       "3  RT NALCABPolicy Meeting with RepDarrenSoto  Thanks for taking the time to meet with LatinoLeader ED Marucci Guzman NALCABPolicy2018       \n",
       "4  RT Vegalteno Hurricane season starts on June 1st Puerto Ricos readinesswell Pwr4PuertoRico RepDarrenSoto EspaillatNY                      \n",
       "\n",
       "                                                                                                                                    Clean tweet  \n",
       "0  Today, Senate Dems vote to #SaveTheInternet. Proud to support similar #NetNeutrality legislation here in the House… https://t.co/n3tggDLU1L   \n",
       "1  RT @WinterHavenSun: Winter Haven resident / Alta Vista teacher is one of several recognized by @RepDarrenSoto for National Teacher Apprecia…  \n",
       "2  RT @NBCLatino: .@RepDarrenSoto noted that Hurricane Maria has left approximately $90 billion in damages. Congress has allocated about $18…    \n",
       "3  RT @NALCABPolicy: Meeting with @RepDarrenSoto . Thanks for taking the time to meet with @LatinoLeader ED Marucci Guzman. #NALCABPolicy2018.…  \n",
       "4  RT @Vegalteno: Hurricane season starts on June 1st; Puerto Rico’s readiness...well 🤦🏼‍♂️😡😩@Pwr4PuertoRico @RepDarrenSoto @EspaillatNY         "
      ]
     },
     "execution_count": 297,
     "metadata": {},
     "output_type": "execute_result"
    }
   ],
   "source": [
    "tweets.head()"
   ]
  },
  {
   "cell_type": "markdown",
   "metadata": {},
   "source": [
    "## Spelling Correction\n",
    "\n",
    "\n",
    "spelling correction is a useful pre-processing step because this also will help us in reducing multiple copies of words. \n",
    "For example, “Analytics” and “analytcs” will be treated as different words even if they are used in the same sense."
   ]
  },
  {
   "cell_type": "code",
   "execution_count": 13,
   "metadata": {},
   "outputs": [
    {
     "ename": "ModuleNotFoundError",
     "evalue": "No module named 'textblob'",
     "output_type": "error",
     "traceback": [
      "\u001b[1;31m---------------------------------------------------------------------------\u001b[0m",
      "\u001b[1;31mModuleNotFoundError\u001b[0m                       Traceback (most recent call last)",
      "\u001b[1;32m<ipython-input-13-5fe1789e05d4>\u001b[0m in \u001b[0;36m<module>\u001b[1;34m\u001b[0m\n\u001b[1;32m----> 1\u001b[1;33m \u001b[1;32mfrom\u001b[0m \u001b[0mtextblob\u001b[0m \u001b[1;32mimport\u001b[0m \u001b[0mTextBlob\u001b[0m\u001b[1;33m\u001b[0m\u001b[1;33m\u001b[0m\u001b[0m\n\u001b[0m\u001b[0;32m      2\u001b[0m \u001b[1;33m\u001b[0m\u001b[0m\n\u001b[0;32m      3\u001b[0m \u001b[0mtweets\u001b[0m\u001b[1;33m[\u001b[0m\u001b[1;34m'Tweet'\u001b[0m\u001b[1;33m]\u001b[0m\u001b[1;33m[\u001b[0m\u001b[1;33m:\u001b[0m\u001b[1;36m5\u001b[0m\u001b[1;33m]\u001b[0m\u001b[1;33m.\u001b[0m\u001b[0mapply\u001b[0m\u001b[1;33m(\u001b[0m\u001b[1;32mlambda\u001b[0m \u001b[0mx\u001b[0m\u001b[1;33m:\u001b[0m \u001b[0mstr\u001b[0m\u001b[1;33m(\u001b[0m\u001b[0mTextBlob\u001b[0m\u001b[1;33m(\u001b[0m\u001b[0mx\u001b[0m\u001b[1;33m)\u001b[0m\u001b[1;33m.\u001b[0m\u001b[0mcorrect\u001b[0m\u001b[1;33m(\u001b[0m\u001b[1;33m)\u001b[0m\u001b[1;33m)\u001b[0m\u001b[1;33m)\u001b[0m\u001b[1;33m\u001b[0m\u001b[1;33m\u001b[0m\u001b[0m\n",
      "\u001b[1;31mModuleNotFoundError\u001b[0m: No module named 'textblob'"
     ]
    }
   ],
   "source": [
    "from textblob import TextBlob\n",
    "\n",
    "tweets['Tweet'][:5].apply(lambda x: str(TextBlob(x).correct()))"
   ]
  },
  {
   "cell_type": "markdown",
   "metadata": {},
   "source": [
    "## Tokenization\n",
    "\n",
    "Tokenization refers to dividing the text into a sequence of words or sentences. "
   ]
  },
  {
   "cell_type": "code",
   "execution_count": 257,
   "metadata": {},
   "outputs": [],
   "source": [
    "tweets[\"Tokens\"]= tweets['Clean tweet'].apply(lambda x: x.split())"
   ]
  },
  {
   "cell_type": "code",
   "execution_count": 258,
   "metadata": {},
   "outputs": [
    {
     "data": {
      "text/html": [
       "<div>\n",
       "<style scoped>\n",
       "    .dataframe tbody tr th:only-of-type {\n",
       "        vertical-align: middle;\n",
       "    }\n",
       "\n",
       "    .dataframe tbody tr th {\n",
       "        vertical-align: top;\n",
       "    }\n",
       "\n",
       "    .dataframe thead th {\n",
       "        text-align: right;\n",
       "    }\n",
       "</style>\n",
       "<table border=\"1\" class=\"dataframe\">\n",
       "  <thead>\n",
       "    <tr style=\"text-align: right;\">\n",
       "      <th></th>\n",
       "      <th>Party</th>\n",
       "      <th>Handle</th>\n",
       "      <th>Tweet</th>\n",
       "      <th>No_Punctuation</th>\n",
       "      <th>Clean tweet</th>\n",
       "      <th>Tokens</th>\n",
       "    </tr>\n",
       "  </thead>\n",
       "  <tbody>\n",
       "    <tr>\n",
       "      <th>0</th>\n",
       "      <td>Democrat</td>\n",
       "      <td>RepDarrenSoto</td>\n",
       "      <td>Today, Senate Dems vote to #SaveTheInternet. Proud to support similar #NetNeutrality legislation here in the House… https://t.co/n3tggDLU1L</td>\n",
       "      <td>Today Senate Dems vote to SaveTheInternet Proud to support similar NetNeutrality legislation here in the House httpstcon3tggDLU1L</td>\n",
       "      <td>Today, Senate Dems vote to #SaveTheInternet. Proud to support similar #NetNeutrality legislation here in the House… https://t.co/n3tggDLU1L</td>\n",
       "      <td>[Today,, Senate, Dems, vote, to, #SaveTheInternet., Proud, to, support, similar, #NetNeutrality, legislation, here, in, the, House…, https://t.co/n3tggDLU1L]</td>\n",
       "    </tr>\n",
       "    <tr>\n",
       "      <th>1</th>\n",
       "      <td>Democrat</td>\n",
       "      <td>RepDarrenSoto</td>\n",
       "      <td>RT @WinterHavenSun: Winter Haven resident / Alta Vista teacher is one of several recognized by @RepDarrenSoto for National Teacher Apprecia…</td>\n",
       "      <td>RT WinterHavenSun Winter Haven resident  Alta Vista teacher is one of several recognized by RepDarrenSoto for National Teacher Apprecia</td>\n",
       "      <td>RT @WinterHavenSun: Winter Haven resident / Alta Vista teacher is one of several recognized by @RepDarrenSoto for National Teacher Apprecia…</td>\n",
       "      <td>[RT, @WinterHavenSun:, Winter, Haven, resident, /, Alta, Vista, teacher, is, one, of, several, recognized, by, @RepDarrenSoto, for, National, Teacher, Apprecia…]</td>\n",
       "    </tr>\n",
       "    <tr>\n",
       "      <th>2</th>\n",
       "      <td>Democrat</td>\n",
       "      <td>RepDarrenSoto</td>\n",
       "      <td>RT @NBCLatino: .@RepDarrenSoto noted that Hurricane Maria has left approximately $90 billion in damages. \\n\\nCongress has allocated about $18…</td>\n",
       "      <td>RT NBCLatino RepDarrenSoto noted that Hurricane Maria has left approximately 90 billion in damages \\n\\nCongress has allocated about 18</td>\n",
       "      <td>RT @NBCLatino: .@RepDarrenSoto noted that Hurricane Maria has left approximately $90 billion in damages. Congress has allocated about $18…</td>\n",
       "      <td>[RT, @NBCLatino:, .@RepDarrenSoto, noted, that, Hurricane, Maria, has, left, approximately, $90, billion, in, damages., Congress, has, allocated, about, $18…]</td>\n",
       "    </tr>\n",
       "    <tr>\n",
       "      <th>3</th>\n",
       "      <td>Democrat</td>\n",
       "      <td>RepDarrenSoto</td>\n",
       "      <td>RT @NALCABPolicy: Meeting with @RepDarrenSoto . Thanks for taking the time to meet with @LatinoLeader ED Marucci Guzman. #NALCABPolicy2018.…</td>\n",
       "      <td>RT NALCABPolicy Meeting with RepDarrenSoto  Thanks for taking the time to meet with LatinoLeader ED Marucci Guzman NALCABPolicy2018</td>\n",
       "      <td>RT @NALCABPolicy: Meeting with @RepDarrenSoto . Thanks for taking the time to meet with @LatinoLeader ED Marucci Guzman. #NALCABPolicy2018.…</td>\n",
       "      <td>[RT, @NALCABPolicy:, Meeting, with, @RepDarrenSoto, ., Thanks, for, taking, the, time, to, meet, with, @LatinoLeader, ED, Marucci, Guzman., #NALCABPolicy2018.…]</td>\n",
       "    </tr>\n",
       "    <tr>\n",
       "      <th>4</th>\n",
       "      <td>Democrat</td>\n",
       "      <td>RepDarrenSoto</td>\n",
       "      <td>RT @Vegalteno: Hurricane season starts on June 1st; Puerto Rico’s readiness...well 🤦🏼‍♂️😡😩@Pwr4PuertoRico @RepDarrenSoto @EspaillatNY</td>\n",
       "      <td>RT Vegalteno Hurricane season starts on June 1st Puerto Ricos readinesswell Pwr4PuertoRico RepDarrenSoto EspaillatNY</td>\n",
       "      <td>RT @Vegalteno: Hurricane season starts on June 1st; Puerto Rico’s readiness...well 🤦🏼‍♂️😡😩@Pwr4PuertoRico @RepDarrenSoto @EspaillatNY</td>\n",
       "      <td>[RT, @Vegalteno:, Hurricane, season, starts, on, June, 1st;, Puerto, Rico’s, readiness...well, 🤦🏼‍♂️😡😩@Pwr4PuertoRico, @RepDarrenSoto, @EspaillatNY]</td>\n",
       "    </tr>\n",
       "  </tbody>\n",
       "</table>\n",
       "</div>"
      ],
      "text/plain": [
       "      Party         Handle  \\\n",
       "0  Democrat  RepDarrenSoto   \n",
       "1  Democrat  RepDarrenSoto   \n",
       "2  Democrat  RepDarrenSoto   \n",
       "3  Democrat  RepDarrenSoto   \n",
       "4  Democrat  RepDarrenSoto   \n",
       "\n",
       "                                                                                                                                            Tweet  \\\n",
       "0  Today, Senate Dems vote to #SaveTheInternet. Proud to support similar #NetNeutrality legislation here in the House… https://t.co/n3tggDLU1L      \n",
       "1  RT @WinterHavenSun: Winter Haven resident / Alta Vista teacher is one of several recognized by @RepDarrenSoto for National Teacher Apprecia…     \n",
       "2  RT @NBCLatino: .@RepDarrenSoto noted that Hurricane Maria has left approximately $90 billion in damages. \\n\\nCongress has allocated about $18…   \n",
       "3  RT @NALCABPolicy: Meeting with @RepDarrenSoto . Thanks for taking the time to meet with @LatinoLeader ED Marucci Guzman. #NALCABPolicy2018.…     \n",
       "4  RT @Vegalteno: Hurricane season starts on June 1st; Puerto Rico’s readiness...well 🤦🏼‍♂️😡😩@Pwr4PuertoRico @RepDarrenSoto @EspaillatNY            \n",
       "\n",
       "                                                                                                                            No_Punctuation  \\\n",
       "0  Today Senate Dems vote to SaveTheInternet Proud to support similar NetNeutrality legislation here in the House httpstcon3tggDLU1L         \n",
       "1  RT WinterHavenSun Winter Haven resident  Alta Vista teacher is one of several recognized by RepDarrenSoto for National Teacher Apprecia   \n",
       "2  RT NBCLatino RepDarrenSoto noted that Hurricane Maria has left approximately 90 billion in damages \\n\\nCongress has allocated about 18    \n",
       "3  RT NALCABPolicy Meeting with RepDarrenSoto  Thanks for taking the time to meet with LatinoLeader ED Marucci Guzman NALCABPolicy2018       \n",
       "4  RT Vegalteno Hurricane season starts on June 1st Puerto Ricos readinesswell Pwr4PuertoRico RepDarrenSoto EspaillatNY                      \n",
       "\n",
       "                                                                                                                                    Clean tweet  \\\n",
       "0  Today, Senate Dems vote to #SaveTheInternet. Proud to support similar #NetNeutrality legislation here in the House… https://t.co/n3tggDLU1L    \n",
       "1  RT @WinterHavenSun: Winter Haven resident / Alta Vista teacher is one of several recognized by @RepDarrenSoto for National Teacher Apprecia…   \n",
       "2  RT @NBCLatino: .@RepDarrenSoto noted that Hurricane Maria has left approximately $90 billion in damages. Congress has allocated about $18…     \n",
       "3  RT @NALCABPolicy: Meeting with @RepDarrenSoto . Thanks for taking the time to meet with @LatinoLeader ED Marucci Guzman. #NALCABPolicy2018.…   \n",
       "4  RT @Vegalteno: Hurricane season starts on June 1st; Puerto Rico’s readiness...well 🤦🏼‍♂️😡😩@Pwr4PuertoRico @RepDarrenSoto @EspaillatNY          \n",
       "\n",
       "                                                                                                                                                              Tokens  \n",
       "0  [Today,, Senate, Dems, vote, to, #SaveTheInternet., Proud, to, support, similar, #NetNeutrality, legislation, here, in, the, House…, https://t.co/n3tggDLU1L]      \n",
       "1  [RT, @WinterHavenSun:, Winter, Haven, resident, /, Alta, Vista, teacher, is, one, of, several, recognized, by, @RepDarrenSoto, for, National, Teacher, Apprecia…]  \n",
       "2  [RT, @NBCLatino:, .@RepDarrenSoto, noted, that, Hurricane, Maria, has, left, approximately, $90, billion, in, damages., Congress, has, allocated, about, $18…]     \n",
       "3  [RT, @NALCABPolicy:, Meeting, with, @RepDarrenSoto, ., Thanks, for, taking, the, time, to, meet, with, @LatinoLeader, ED, Marucci, Guzman., #NALCABPolicy2018.…]   \n",
       "4  [RT, @Vegalteno:, Hurricane, season, starts, on, June, 1st;, Puerto, Rico’s, readiness...well, 🤦🏼‍♂️😡😩@Pwr4PuertoRico, @RepDarrenSoto, @EspaillatNY]               "
      ]
     },
     "execution_count": 258,
     "metadata": {},
     "output_type": "execute_result"
    }
   ],
   "source": [
    "tweets.head()"
   ]
  },
  {
   "cell_type": "code",
   "execution_count": 259,
   "metadata": {},
   "outputs": [
    {
     "data": {
      "text/plain": [
       "WordList(['RT', 'WinterHavenSun', 'Winter', 'Haven', 'resident', 'Alta', 'Vista', 'teacher', 'is', 'one', 'of', 'several', 'recognized', 'by', 'RepDarrenSoto', 'for', 'National', 'Teacher', 'Apprecia…'])"
      ]
     },
     "execution_count": 259,
     "metadata": {},
     "output_type": "execute_result"
    }
   ],
   "source": [
    "TextBlob(tweets['Clean tweet'][1]).words"
   ]
  },
  {
   "cell_type": "markdown",
   "metadata": {},
   "source": [
    "## Stemming\n",
    "\n",
    "Stemming refers to the removal of suffices, like “ing”, “ly”, “s”, etc. \n",
    "by a simple rule-based approach. For this purpose, we will use PorterStemmer from the NLTK library."
   ]
  },
  {
   "cell_type": "code",
   "execution_count": 260,
   "metadata": {},
   "outputs": [
    {
     "data": {
      "text/plain": [
       "0    today, senat dem vote to #savetheinternet. proud to support similar #netneutr legisl here in the house… https://t.co/n3tggdlu1l     \n",
       "1    RT @winterhavensun: winter haven resid / alta vista teacher is one of sever recogn by @repdarrensoto for nation teacher apprecia…   \n",
       "2    RT @nbclatino: .@repdarrensoto note that hurrican maria ha left approxim $90 billion in damages. congress ha alloc about $18…       \n",
       "3    RT @nalcabpolicy: meet with @repdarrensoto . thank for take the time to meet with @latinolead ED marucci guzman. #nalcabpolicy2018.…\n",
       "4    RT @vegalteno: hurrican season start on june 1st; puerto rico’ readiness...wel 🤦🏼‍♂️😡😩@pwr4puertorico @repdarrensoto @espaillatni   \n",
       "Name: Tweet, dtype: object"
      ]
     },
     "execution_count": 260,
     "metadata": {},
     "output_type": "execute_result"
    }
   ],
   "source": [
    "from nltk.stem import PorterStemmer\n",
    "\n",
    "st = PorterStemmer()\n",
    "tweets['Tweet'][:5].apply(lambda x: \" \".join([st.stem(word) for word in x.split()]))"
   ]
  },
  {
   "cell_type": "markdown",
   "metadata": {},
   "source": [
    "## Lemmatization\n",
    "\n",
    "Lemmatization is a more effective option than stemming because it converts the word into its root word, rather than just stripping the suffices. \n",
    "It makes use of the vocabulary and does a morphological analysis to obtain the root word. "
   ]
  },
  {
   "cell_type": "code",
   "execution_count": 261,
   "metadata": {},
   "outputs": [],
   "source": [
    "from textblob import Word\n",
    "\n",
    "tweets['Tweet'] = tweets['Tweet'].apply(lambda x: \" \".join([Word(word).lemmatize() for word in x.split()]))"
   ]
  },
  {
   "cell_type": "code",
   "execution_count": 262,
   "metadata": {},
   "outputs": [
    {
     "data": {
      "text/html": [
       "<div>\n",
       "<style scoped>\n",
       "    .dataframe tbody tr th:only-of-type {\n",
       "        vertical-align: middle;\n",
       "    }\n",
       "\n",
       "    .dataframe tbody tr th {\n",
       "        vertical-align: top;\n",
       "    }\n",
       "\n",
       "    .dataframe thead th {\n",
       "        text-align: right;\n",
       "    }\n",
       "</style>\n",
       "<table border=\"1\" class=\"dataframe\">\n",
       "  <thead>\n",
       "    <tr style=\"text-align: right;\">\n",
       "      <th></th>\n",
       "      <th>Party</th>\n",
       "      <th>Handle</th>\n",
       "      <th>Tweet</th>\n",
       "      <th>No_Punctuation</th>\n",
       "      <th>Clean tweet</th>\n",
       "      <th>Tokens</th>\n",
       "    </tr>\n",
       "  </thead>\n",
       "  <tbody>\n",
       "    <tr>\n",
       "      <th>0</th>\n",
       "      <td>Democrat</td>\n",
       "      <td>RepDarrenSoto</td>\n",
       "      <td>Today, Senate Dems vote to #SaveTheInternet. Proud to support similar #NetNeutrality legislation here in the House… https://t.co/n3tggDLU1L</td>\n",
       "      <td>Today Senate Dems vote to SaveTheInternet Proud to support similar NetNeutrality legislation here in the House httpstcon3tggDLU1L</td>\n",
       "      <td>Today, Senate Dems vote to #SaveTheInternet. Proud to support similar #NetNeutrality legislation here in the House… https://t.co/n3tggDLU1L</td>\n",
       "      <td>[Today,, Senate, Dems, vote, to, #SaveTheInternet., Proud, to, support, similar, #NetNeutrality, legislation, here, in, the, House…, https://t.co/n3tggDLU1L]</td>\n",
       "    </tr>\n",
       "    <tr>\n",
       "      <th>1</th>\n",
       "      <td>Democrat</td>\n",
       "      <td>RepDarrenSoto</td>\n",
       "      <td>RT @WinterHavenSun: Winter Haven resident / Alta Vista teacher is one of several recognized by @RepDarrenSoto for National Teacher Apprecia…</td>\n",
       "      <td>RT WinterHavenSun Winter Haven resident  Alta Vista teacher is one of several recognized by RepDarrenSoto for National Teacher Apprecia</td>\n",
       "      <td>RT @WinterHavenSun: Winter Haven resident / Alta Vista teacher is one of several recognized by @RepDarrenSoto for National Teacher Apprecia…</td>\n",
       "      <td>[RT, @WinterHavenSun:, Winter, Haven, resident, /, Alta, Vista, teacher, is, one, of, several, recognized, by, @RepDarrenSoto, for, National, Teacher, Apprecia…]</td>\n",
       "    </tr>\n",
       "    <tr>\n",
       "      <th>2</th>\n",
       "      <td>Democrat</td>\n",
       "      <td>RepDarrenSoto</td>\n",
       "      <td>RT @NBCLatino: .@RepDarrenSoto noted that Hurricane Maria ha left approximately $90 billion in damages. Congress ha allocated about $18…</td>\n",
       "      <td>RT NBCLatino RepDarrenSoto noted that Hurricane Maria has left approximately 90 billion in damages \\n\\nCongress has allocated about 18</td>\n",
       "      <td>RT @NBCLatino: .@RepDarrenSoto noted that Hurricane Maria has left approximately $90 billion in damages. Congress has allocated about $18…</td>\n",
       "      <td>[RT, @NBCLatino:, .@RepDarrenSoto, noted, that, Hurricane, Maria, has, left, approximately, $90, billion, in, damages., Congress, has, allocated, about, $18…]</td>\n",
       "    </tr>\n",
       "    <tr>\n",
       "      <th>3</th>\n",
       "      <td>Democrat</td>\n",
       "      <td>RepDarrenSoto</td>\n",
       "      <td>RT @NALCABPolicy: Meeting with @RepDarrenSoto . Thanks for taking the time to meet with @LatinoLeader ED Marucci Guzman. #NALCABPolicy2018.…</td>\n",
       "      <td>RT NALCABPolicy Meeting with RepDarrenSoto  Thanks for taking the time to meet with LatinoLeader ED Marucci Guzman NALCABPolicy2018</td>\n",
       "      <td>RT @NALCABPolicy: Meeting with @RepDarrenSoto . Thanks for taking the time to meet with @LatinoLeader ED Marucci Guzman. #NALCABPolicy2018.…</td>\n",
       "      <td>[RT, @NALCABPolicy:, Meeting, with, @RepDarrenSoto, ., Thanks, for, taking, the, time, to, meet, with, @LatinoLeader, ED, Marucci, Guzman., #NALCABPolicy2018.…]</td>\n",
       "    </tr>\n",
       "    <tr>\n",
       "      <th>4</th>\n",
       "      <td>Democrat</td>\n",
       "      <td>RepDarrenSoto</td>\n",
       "      <td>RT @Vegalteno: Hurricane season start on June 1st; Puerto Rico’s readiness...well 🤦🏼‍♂️😡😩@Pwr4PuertoRico @RepDarrenSoto @EspaillatNY</td>\n",
       "      <td>RT Vegalteno Hurricane season starts on June 1st Puerto Ricos readinesswell Pwr4PuertoRico RepDarrenSoto EspaillatNY</td>\n",
       "      <td>RT @Vegalteno: Hurricane season starts on June 1st; Puerto Rico’s readiness...well 🤦🏼‍♂️😡😩@Pwr4PuertoRico @RepDarrenSoto @EspaillatNY</td>\n",
       "      <td>[RT, @Vegalteno:, Hurricane, season, starts, on, June, 1st;, Puerto, Rico’s, readiness...well, 🤦🏼‍♂️😡😩@Pwr4PuertoRico, @RepDarrenSoto, @EspaillatNY]</td>\n",
       "    </tr>\n",
       "  </tbody>\n",
       "</table>\n",
       "</div>"
      ],
      "text/plain": [
       "      Party         Handle  \\\n",
       "0  Democrat  RepDarrenSoto   \n",
       "1  Democrat  RepDarrenSoto   \n",
       "2  Democrat  RepDarrenSoto   \n",
       "3  Democrat  RepDarrenSoto   \n",
       "4  Democrat  RepDarrenSoto   \n",
       "\n",
       "                                                                                                                                          Tweet  \\\n",
       "0  Today, Senate Dems vote to #SaveTheInternet. Proud to support similar #NetNeutrality legislation here in the House… https://t.co/n3tggDLU1L    \n",
       "1  RT @WinterHavenSun: Winter Haven resident / Alta Vista teacher is one of several recognized by @RepDarrenSoto for National Teacher Apprecia…   \n",
       "2  RT @NBCLatino: .@RepDarrenSoto noted that Hurricane Maria ha left approximately $90 billion in damages. Congress ha allocated about $18…       \n",
       "3  RT @NALCABPolicy: Meeting with @RepDarrenSoto . Thanks for taking the time to meet with @LatinoLeader ED Marucci Guzman. #NALCABPolicy2018.…   \n",
       "4  RT @Vegalteno: Hurricane season start on June 1st; Puerto Rico’s readiness...well 🤦🏼‍♂️😡😩@Pwr4PuertoRico @RepDarrenSoto @EspaillatNY           \n",
       "\n",
       "                                                                                                                            No_Punctuation  \\\n",
       "0  Today Senate Dems vote to SaveTheInternet Proud to support similar NetNeutrality legislation here in the House httpstcon3tggDLU1L         \n",
       "1  RT WinterHavenSun Winter Haven resident  Alta Vista teacher is one of several recognized by RepDarrenSoto for National Teacher Apprecia   \n",
       "2  RT NBCLatino RepDarrenSoto noted that Hurricane Maria has left approximately 90 billion in damages \\n\\nCongress has allocated about 18    \n",
       "3  RT NALCABPolicy Meeting with RepDarrenSoto  Thanks for taking the time to meet with LatinoLeader ED Marucci Guzman NALCABPolicy2018       \n",
       "4  RT Vegalteno Hurricane season starts on June 1st Puerto Ricos readinesswell Pwr4PuertoRico RepDarrenSoto EspaillatNY                      \n",
       "\n",
       "                                                                                                                                    Clean tweet  \\\n",
       "0  Today, Senate Dems vote to #SaveTheInternet. Proud to support similar #NetNeutrality legislation here in the House… https://t.co/n3tggDLU1L    \n",
       "1  RT @WinterHavenSun: Winter Haven resident / Alta Vista teacher is one of several recognized by @RepDarrenSoto for National Teacher Apprecia…   \n",
       "2  RT @NBCLatino: .@RepDarrenSoto noted that Hurricane Maria has left approximately $90 billion in damages. Congress has allocated about $18…     \n",
       "3  RT @NALCABPolicy: Meeting with @RepDarrenSoto . Thanks for taking the time to meet with @LatinoLeader ED Marucci Guzman. #NALCABPolicy2018.…   \n",
       "4  RT @Vegalteno: Hurricane season starts on June 1st; Puerto Rico’s readiness...well 🤦🏼‍♂️😡😩@Pwr4PuertoRico @RepDarrenSoto @EspaillatNY          \n",
       "\n",
       "                                                                                                                                                              Tokens  \n",
       "0  [Today,, Senate, Dems, vote, to, #SaveTheInternet., Proud, to, support, similar, #NetNeutrality, legislation, here, in, the, House…, https://t.co/n3tggDLU1L]      \n",
       "1  [RT, @WinterHavenSun:, Winter, Haven, resident, /, Alta, Vista, teacher, is, one, of, several, recognized, by, @RepDarrenSoto, for, National, Teacher, Apprecia…]  \n",
       "2  [RT, @NBCLatino:, .@RepDarrenSoto, noted, that, Hurricane, Maria, has, left, approximately, $90, billion, in, damages., Congress, has, allocated, about, $18…]     \n",
       "3  [RT, @NALCABPolicy:, Meeting, with, @RepDarrenSoto, ., Thanks, for, taking, the, time, to, meet, with, @LatinoLeader, ED, Marucci, Guzman., #NALCABPolicy2018.…]   \n",
       "4  [RT, @Vegalteno:, Hurricane, season, starts, on, June, 1st;, Puerto, Rico’s, readiness...well, 🤦🏼‍♂️😡😩@Pwr4PuertoRico, @RepDarrenSoto, @EspaillatNY]               "
      ]
     },
     "execution_count": 262,
     "metadata": {},
     "output_type": "execute_result"
    }
   ],
   "source": [
    "tweets.head()"
   ]
  },
  {
   "cell_type": "markdown",
   "metadata": {},
   "source": [
    "## Part of Speech (POS) Tagging"
   ]
  },
  {
   "cell_type": "code",
   "execution_count": 263,
   "metadata": {},
   "outputs": [],
   "source": [
    "import nltk"
   ]
  },
  {
   "cell_type": "code",
   "execution_count": 264,
   "metadata": {},
   "outputs": [],
   "source": [
    "tweets['POS']=tweets['Tokens'].apply(lambda x: nltk.pos_tag(x))"
   ]
  },
  {
   "cell_type": "code",
   "execution_count": 265,
   "metadata": {},
   "outputs": [
    {
     "data": {
      "text/html": [
       "<div>\n",
       "<style scoped>\n",
       "    .dataframe tbody tr th:only-of-type {\n",
       "        vertical-align: middle;\n",
       "    }\n",
       "\n",
       "    .dataframe tbody tr th {\n",
       "        vertical-align: top;\n",
       "    }\n",
       "\n",
       "    .dataframe thead th {\n",
       "        text-align: right;\n",
       "    }\n",
       "</style>\n",
       "<table border=\"1\" class=\"dataframe\">\n",
       "  <thead>\n",
       "    <tr style=\"text-align: right;\">\n",
       "      <th></th>\n",
       "      <th>Party</th>\n",
       "      <th>Handle</th>\n",
       "      <th>Tweet</th>\n",
       "      <th>No_Punctuation</th>\n",
       "      <th>Clean tweet</th>\n",
       "      <th>Tokens</th>\n",
       "      <th>POS</th>\n",
       "    </tr>\n",
       "  </thead>\n",
       "  <tbody>\n",
       "    <tr>\n",
       "      <th>0</th>\n",
       "      <td>Democrat</td>\n",
       "      <td>RepDarrenSoto</td>\n",
       "      <td>Today, Senate Dems vote to #SaveTheInternet. Proud to support similar #NetNeutrality legislation here in the House… https://t.co/n3tggDLU1L</td>\n",
       "      <td>Today Senate Dems vote to SaveTheInternet Proud to support similar NetNeutrality legislation here in the House httpstcon3tggDLU1L</td>\n",
       "      <td>Today, Senate Dems vote to #SaveTheInternet. Proud to support similar #NetNeutrality legislation here in the House… https://t.co/n3tggDLU1L</td>\n",
       "      <td>[Today,, Senate, Dems, vote, to, #SaveTheInternet., Proud, to, support, similar, #NetNeutrality, legislation, here, in, the, House…, https://t.co/n3tggDLU1L]</td>\n",
       "      <td>[(Today,, NNP), (Senate, NNP), (Dems, NNP), (vote, NN), (to, TO), (#SaveTheInternet., VB), (Proud, NNP), (to, TO), (support, VB), (similar, JJ), (#NetNeutrality, NN), (legislation, NN), (here, RB), (in, IN), (the, DT), (House…, NNP), (https://t.co/n3tggDLU1L, NN)]</td>\n",
       "    </tr>\n",
       "    <tr>\n",
       "      <th>1</th>\n",
       "      <td>Democrat</td>\n",
       "      <td>RepDarrenSoto</td>\n",
       "      <td>RT @WinterHavenSun: Winter Haven resident / Alta Vista teacher is one of several recognized by @RepDarrenSoto for National Teacher Apprecia…</td>\n",
       "      <td>RT WinterHavenSun Winter Haven resident  Alta Vista teacher is one of several recognized by RepDarrenSoto for National Teacher Apprecia</td>\n",
       "      <td>RT @WinterHavenSun: Winter Haven resident / Alta Vista teacher is one of several recognized by @RepDarrenSoto for National Teacher Apprecia…</td>\n",
       "      <td>[RT, @WinterHavenSun:, Winter, Haven, resident, /, Alta, Vista, teacher, is, one, of, several, recognized, by, @RepDarrenSoto, for, National, Teacher, Apprecia…]</td>\n",
       "      <td>[(RT, NNP), (@WinterHavenSun:, NNP), (Winter, NNP), (Haven, NNP), (resident, VBD), (/, NNP), (Alta, NNP), (Vista, NNP), (teacher, NN), (is, VBZ), (one, CD), (of, IN), (several, JJ), (recognized, VBN), (by, IN), (@RepDarrenSoto, NN), (for, IN), (National, NNP), (Teacher, NNP), (Apprecia…, NNP)]</td>\n",
       "    </tr>\n",
       "    <tr>\n",
       "      <th>2</th>\n",
       "      <td>Democrat</td>\n",
       "      <td>RepDarrenSoto</td>\n",
       "      <td>RT @NBCLatino: .@RepDarrenSoto noted that Hurricane Maria ha left approximately $90 billion in damages. Congress ha allocated about $18…</td>\n",
       "      <td>RT NBCLatino RepDarrenSoto noted that Hurricane Maria has left approximately 90 billion in damages \\n\\nCongress has allocated about 18</td>\n",
       "      <td>RT @NBCLatino: .@RepDarrenSoto noted that Hurricane Maria has left approximately $90 billion in damages. Congress has allocated about $18…</td>\n",
       "      <td>[RT, @NBCLatino:, .@RepDarrenSoto, noted, that, Hurricane, Maria, has, left, approximately, $90, billion, in, damages., Congress, has, allocated, about, $18…]</td>\n",
       "      <td>[(RT, NNP), (@NBCLatino:, NNP), (.@RepDarrenSoto, NNP), (noted, VBD), (that, IN), (Hurricane, NNP), (Maria, NNP), (has, VBZ), (left, VBN), (approximately, RB), ($90, JJ), (billion, CD), (in, IN), (damages., NN), (Congress, NNP), (has, VBZ), (allocated, VBN), (about, IN), ($18…, NN)]</td>\n",
       "    </tr>\n",
       "    <tr>\n",
       "      <th>3</th>\n",
       "      <td>Democrat</td>\n",
       "      <td>RepDarrenSoto</td>\n",
       "      <td>RT @NALCABPolicy: Meeting with @RepDarrenSoto . Thanks for taking the time to meet with @LatinoLeader ED Marucci Guzman. #NALCABPolicy2018.…</td>\n",
       "      <td>RT NALCABPolicy Meeting with RepDarrenSoto  Thanks for taking the time to meet with LatinoLeader ED Marucci Guzman NALCABPolicy2018</td>\n",
       "      <td>RT @NALCABPolicy: Meeting with @RepDarrenSoto . Thanks for taking the time to meet with @LatinoLeader ED Marucci Guzman. #NALCABPolicy2018.…</td>\n",
       "      <td>[RT, @NALCABPolicy:, Meeting, with, @RepDarrenSoto, ., Thanks, for, taking, the, time, to, meet, with, @LatinoLeader, ED, Marucci, Guzman., #NALCABPolicy2018.…]</td>\n",
       "      <td>[(RT, NNP), (@NALCABPolicy:, NNP), (Meeting, NNP), (with, IN), (@RepDarrenSoto, NNP), (., .), (Thanks, NNS), (for, IN), (taking, VBG), (the, DT), (time, NN), (to, TO), (meet, VB), (with, IN), (@LatinoLeader, NNP), (ED, NNP), (Marucci, NNP), (Guzman., NNP), (#NALCABPolicy2018.…, NN)]</td>\n",
       "    </tr>\n",
       "    <tr>\n",
       "      <th>4</th>\n",
       "      <td>Democrat</td>\n",
       "      <td>RepDarrenSoto</td>\n",
       "      <td>RT @Vegalteno: Hurricane season start on June 1st; Puerto Rico’s readiness...well 🤦🏼‍♂️😡😩@Pwr4PuertoRico @RepDarrenSoto @EspaillatNY</td>\n",
       "      <td>RT Vegalteno Hurricane season starts on June 1st Puerto Ricos readinesswell Pwr4PuertoRico RepDarrenSoto EspaillatNY</td>\n",
       "      <td>RT @Vegalteno: Hurricane season starts on June 1st; Puerto Rico’s readiness...well 🤦🏼‍♂️😡😩@Pwr4PuertoRico @RepDarrenSoto @EspaillatNY</td>\n",
       "      <td>[RT, @Vegalteno:, Hurricane, season, starts, on, June, 1st;, Puerto, Rico’s, readiness...well, 🤦🏼‍♂️😡😩@Pwr4PuertoRico, @RepDarrenSoto, @EspaillatNY]</td>\n",
       "      <td>[(RT, NNP), (@Vegalteno:, NNP), (Hurricane, NNP), (season, NN), (starts, VBZ), (on, IN), (June, NNP), (1st;, CD), (Puerto, NNP), (Rico’s, NNP), (readiness...well, VBP), (🤦🏼‍♂️😡😩@Pwr4PuertoRico, NNP), (@RepDarrenSoto, NNP), (@EspaillatNY, NN)]</td>\n",
       "    </tr>\n",
       "  </tbody>\n",
       "</table>\n",
       "</div>"
      ],
      "text/plain": [
       "      Party         Handle  \\\n",
       "0  Democrat  RepDarrenSoto   \n",
       "1  Democrat  RepDarrenSoto   \n",
       "2  Democrat  RepDarrenSoto   \n",
       "3  Democrat  RepDarrenSoto   \n",
       "4  Democrat  RepDarrenSoto   \n",
       "\n",
       "                                                                                                                                          Tweet  \\\n",
       "0  Today, Senate Dems vote to #SaveTheInternet. Proud to support similar #NetNeutrality legislation here in the House… https://t.co/n3tggDLU1L    \n",
       "1  RT @WinterHavenSun: Winter Haven resident / Alta Vista teacher is one of several recognized by @RepDarrenSoto for National Teacher Apprecia…   \n",
       "2  RT @NBCLatino: .@RepDarrenSoto noted that Hurricane Maria ha left approximately $90 billion in damages. Congress ha allocated about $18…       \n",
       "3  RT @NALCABPolicy: Meeting with @RepDarrenSoto . Thanks for taking the time to meet with @LatinoLeader ED Marucci Guzman. #NALCABPolicy2018.…   \n",
       "4  RT @Vegalteno: Hurricane season start on June 1st; Puerto Rico’s readiness...well 🤦🏼‍♂️😡😩@Pwr4PuertoRico @RepDarrenSoto @EspaillatNY           \n",
       "\n",
       "                                                                                                                            No_Punctuation  \\\n",
       "0  Today Senate Dems vote to SaveTheInternet Proud to support similar NetNeutrality legislation here in the House httpstcon3tggDLU1L         \n",
       "1  RT WinterHavenSun Winter Haven resident  Alta Vista teacher is one of several recognized by RepDarrenSoto for National Teacher Apprecia   \n",
       "2  RT NBCLatino RepDarrenSoto noted that Hurricane Maria has left approximately 90 billion in damages \\n\\nCongress has allocated about 18    \n",
       "3  RT NALCABPolicy Meeting with RepDarrenSoto  Thanks for taking the time to meet with LatinoLeader ED Marucci Guzman NALCABPolicy2018       \n",
       "4  RT Vegalteno Hurricane season starts on June 1st Puerto Ricos readinesswell Pwr4PuertoRico RepDarrenSoto EspaillatNY                      \n",
       "\n",
       "                                                                                                                                    Clean tweet  \\\n",
       "0  Today, Senate Dems vote to #SaveTheInternet. Proud to support similar #NetNeutrality legislation here in the House… https://t.co/n3tggDLU1L    \n",
       "1  RT @WinterHavenSun: Winter Haven resident / Alta Vista teacher is one of several recognized by @RepDarrenSoto for National Teacher Apprecia…   \n",
       "2  RT @NBCLatino: .@RepDarrenSoto noted that Hurricane Maria has left approximately $90 billion in damages. Congress has allocated about $18…     \n",
       "3  RT @NALCABPolicy: Meeting with @RepDarrenSoto . Thanks for taking the time to meet with @LatinoLeader ED Marucci Guzman. #NALCABPolicy2018.…   \n",
       "4  RT @Vegalteno: Hurricane season starts on June 1st; Puerto Rico’s readiness...well 🤦🏼‍♂️😡😩@Pwr4PuertoRico @RepDarrenSoto @EspaillatNY          \n",
       "\n",
       "                                                                                                                                                              Tokens  \\\n",
       "0  [Today,, Senate, Dems, vote, to, #SaveTheInternet., Proud, to, support, similar, #NetNeutrality, legislation, here, in, the, House…, https://t.co/n3tggDLU1L]       \n",
       "1  [RT, @WinterHavenSun:, Winter, Haven, resident, /, Alta, Vista, teacher, is, one, of, several, recognized, by, @RepDarrenSoto, for, National, Teacher, Apprecia…]   \n",
       "2  [RT, @NBCLatino:, .@RepDarrenSoto, noted, that, Hurricane, Maria, has, left, approximately, $90, billion, in, damages., Congress, has, allocated, about, $18…]      \n",
       "3  [RT, @NALCABPolicy:, Meeting, with, @RepDarrenSoto, ., Thanks, for, taking, the, time, to, meet, with, @LatinoLeader, ED, Marucci, Guzman., #NALCABPolicy2018.…]    \n",
       "4  [RT, @Vegalteno:, Hurricane, season, starts, on, June, 1st;, Puerto, Rico’s, readiness...well, 🤦🏼‍♂️😡😩@Pwr4PuertoRico, @RepDarrenSoto, @EspaillatNY]                \n",
       "\n",
       "                                                                                                                                                                                                                                                                                                      POS  \n",
       "0  [(Today,, NNP), (Senate, NNP), (Dems, NNP), (vote, NN), (to, TO), (#SaveTheInternet., VB), (Proud, NNP), (to, TO), (support, VB), (similar, JJ), (#NetNeutrality, NN), (legislation, NN), (here, RB), (in, IN), (the, DT), (House…, NNP), (https://t.co/n3tggDLU1L, NN)]                                \n",
       "1  [(RT, NNP), (@WinterHavenSun:, NNP), (Winter, NNP), (Haven, NNP), (resident, VBD), (/, NNP), (Alta, NNP), (Vista, NNP), (teacher, NN), (is, VBZ), (one, CD), (of, IN), (several, JJ), (recognized, VBN), (by, IN), (@RepDarrenSoto, NN), (for, IN), (National, NNP), (Teacher, NNP), (Apprecia…, NNP)]  \n",
       "2  [(RT, NNP), (@NBCLatino:, NNP), (.@RepDarrenSoto, NNP), (noted, VBD), (that, IN), (Hurricane, NNP), (Maria, NNP), (has, VBZ), (left, VBN), (approximately, RB), ($90, JJ), (billion, CD), (in, IN), (damages., NN), (Congress, NNP), (has, VBZ), (allocated, VBN), (about, IN), ($18…, NN)]             \n",
       "3  [(RT, NNP), (@NALCABPolicy:, NNP), (Meeting, NNP), (with, IN), (@RepDarrenSoto, NNP), (., .), (Thanks, NNS), (for, IN), (taking, VBG), (the, DT), (time, NN), (to, TO), (meet, VB), (with, IN), (@LatinoLeader, NNP), (ED, NNP), (Marucci, NNP), (Guzman., NNP), (#NALCABPolicy2018.…, NN)]             \n",
       "4  [(RT, NNP), (@Vegalteno:, NNP), (Hurricane, NNP), (season, NN), (starts, VBZ), (on, IN), (June, NNP), (1st;, CD), (Puerto, NNP), (Rico’s, NNP), (readiness...well, VBP), (🤦🏼‍♂️😡😩@Pwr4PuertoRico, NNP), (@RepDarrenSoto, NNP), (@EspaillatNY, NN)]                                                      "
      ]
     },
     "execution_count": 265,
     "metadata": {},
     "output_type": "execute_result"
    }
   ],
   "source": [
    "tweets.head()"
   ]
  }
 ],
 "metadata": {
  "kernelspec": {
   "display_name": "Python 3",
   "language": "python",
   "name": "python3"
  },
  "language_info": {
   "codemirror_mode": {
    "name": "ipython",
    "version": 3
   },
   "file_extension": ".py",
   "mimetype": "text/x-python",
   "name": "python",
   "nbconvert_exporter": "python",
   "pygments_lexer": "ipython3",
   "version": "3.7.3"
  }
 },
 "nbformat": 4,
 "nbformat_minor": 2
}
